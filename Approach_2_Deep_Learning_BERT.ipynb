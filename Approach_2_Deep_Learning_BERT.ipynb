{
  "nbformat": 4,
  "nbformat_minor": 0,
  "metadata": {
    "colab": {
      "name": "Approach 2 - Deep Learning BERT.ipynb",
      "provenance": [],
      "collapsed_sections": []
    },
    "kernelspec": {
      "name": "python3",
      "display_name": "Python 3"
    },
    "language_info": {
      "name": "python"
    },
    "accelerator": "GPU",
    "widgets": {
      "application/vnd.jupyter.widget-state+json": {
        "c4512e7f400c4e3585a2a22eafbf72ee": {
          "model_module": "@jupyter-widgets/controls",
          "model_name": "HBoxModel",
          "state": {
            "_view_name": "HBoxView",
            "_dom_classes": [],
            "_model_name": "HBoxModel",
            "_view_module": "@jupyter-widgets/controls",
            "_model_module_version": "1.5.0",
            "_view_count": null,
            "_view_module_version": "1.5.0",
            "box_style": "",
            "layout": "IPY_MODEL_85c454ac7ccd4d3ebb57061cd6022665",
            "_model_module": "@jupyter-widgets/controls",
            "children": [
              "IPY_MODEL_b10915789678438481f5f0625233da10",
              "IPY_MODEL_7ff780df287c460c9ed5dcfb927190d9"
            ]
          }
        },
        "85c454ac7ccd4d3ebb57061cd6022665": {
          "model_module": "@jupyter-widgets/base",
          "model_name": "LayoutModel",
          "state": {
            "_view_name": "LayoutView",
            "grid_template_rows": null,
            "right": null,
            "justify_content": null,
            "_view_module": "@jupyter-widgets/base",
            "overflow": null,
            "_model_module_version": "1.2.0",
            "_view_count": null,
            "flex_flow": null,
            "width": null,
            "min_width": null,
            "border": null,
            "align_items": null,
            "bottom": null,
            "_model_module": "@jupyter-widgets/base",
            "top": null,
            "grid_column": null,
            "overflow_y": null,
            "overflow_x": null,
            "grid_auto_flow": null,
            "grid_area": null,
            "grid_template_columns": null,
            "flex": null,
            "_model_name": "LayoutModel",
            "justify_items": null,
            "grid_row": null,
            "max_height": null,
            "align_content": null,
            "visibility": null,
            "align_self": null,
            "height": null,
            "min_height": null,
            "padding": null,
            "grid_auto_rows": null,
            "grid_gap": null,
            "max_width": null,
            "order": null,
            "_view_module_version": "1.2.0",
            "grid_template_areas": null,
            "object_position": null,
            "object_fit": null,
            "grid_auto_columns": null,
            "margin": null,
            "display": null,
            "left": null
          }
        },
        "b10915789678438481f5f0625233da10": {
          "model_module": "@jupyter-widgets/controls",
          "model_name": "FloatProgressModel",
          "state": {
            "_view_name": "ProgressView",
            "style": "IPY_MODEL_3dec434725a442b98044b77a9d11ca44",
            "_dom_classes": [],
            "description": "100%",
            "_model_name": "FloatProgressModel",
            "bar_style": "success",
            "max": 4901,
            "_view_module": "@jupyter-widgets/controls",
            "_model_module_version": "1.5.0",
            "value": 4901,
            "_view_count": null,
            "_view_module_version": "1.5.0",
            "orientation": "horizontal",
            "min": 0,
            "description_tooltip": null,
            "_model_module": "@jupyter-widgets/controls",
            "layout": "IPY_MODEL_67a31bbe556c4fd7b3256d6e03d94ca9"
          }
        },
        "7ff780df287c460c9ed5dcfb927190d9": {
          "model_module": "@jupyter-widgets/controls",
          "model_name": "HTMLModel",
          "state": {
            "_view_name": "HTMLView",
            "style": "IPY_MODEL_bc4767cb0b094ebeb3cd7a5d6045835c",
            "_dom_classes": [],
            "description": "",
            "_model_name": "HTMLModel",
            "placeholder": "​",
            "_view_module": "@jupyter-widgets/controls",
            "_model_module_version": "1.5.0",
            "value": " 4901/4901 [01:58&lt;00:00, 41.46it/s]",
            "_view_count": null,
            "_view_module_version": "1.5.0",
            "description_tooltip": null,
            "_model_module": "@jupyter-widgets/controls",
            "layout": "IPY_MODEL_2a1dbec8a19b4bceb4036d40e9e5653a"
          }
        },
        "3dec434725a442b98044b77a9d11ca44": {
          "model_module": "@jupyter-widgets/controls",
          "model_name": "ProgressStyleModel",
          "state": {
            "_view_name": "StyleView",
            "_model_name": "ProgressStyleModel",
            "description_width": "initial",
            "_view_module": "@jupyter-widgets/base",
            "_model_module_version": "1.5.0",
            "_view_count": null,
            "_view_module_version": "1.2.0",
            "bar_color": null,
            "_model_module": "@jupyter-widgets/controls"
          }
        },
        "67a31bbe556c4fd7b3256d6e03d94ca9": {
          "model_module": "@jupyter-widgets/base",
          "model_name": "LayoutModel",
          "state": {
            "_view_name": "LayoutView",
            "grid_template_rows": null,
            "right": null,
            "justify_content": null,
            "_view_module": "@jupyter-widgets/base",
            "overflow": null,
            "_model_module_version": "1.2.0",
            "_view_count": null,
            "flex_flow": null,
            "width": null,
            "min_width": null,
            "border": null,
            "align_items": null,
            "bottom": null,
            "_model_module": "@jupyter-widgets/base",
            "top": null,
            "grid_column": null,
            "overflow_y": null,
            "overflow_x": null,
            "grid_auto_flow": null,
            "grid_area": null,
            "grid_template_columns": null,
            "flex": null,
            "_model_name": "LayoutModel",
            "justify_items": null,
            "grid_row": null,
            "max_height": null,
            "align_content": null,
            "visibility": null,
            "align_self": null,
            "height": null,
            "min_height": null,
            "padding": null,
            "grid_auto_rows": null,
            "grid_gap": null,
            "max_width": null,
            "order": null,
            "_view_module_version": "1.2.0",
            "grid_template_areas": null,
            "object_position": null,
            "object_fit": null,
            "grid_auto_columns": null,
            "margin": null,
            "display": null,
            "left": null
          }
        },
        "bc4767cb0b094ebeb3cd7a5d6045835c": {
          "model_module": "@jupyter-widgets/controls",
          "model_name": "DescriptionStyleModel",
          "state": {
            "_view_name": "StyleView",
            "_model_name": "DescriptionStyleModel",
            "description_width": "",
            "_view_module": "@jupyter-widgets/base",
            "_model_module_version": "1.5.0",
            "_view_count": null,
            "_view_module_version": "1.2.0",
            "_model_module": "@jupyter-widgets/controls"
          }
        },
        "2a1dbec8a19b4bceb4036d40e9e5653a": {
          "model_module": "@jupyter-widgets/base",
          "model_name": "LayoutModel",
          "state": {
            "_view_name": "LayoutView",
            "grid_template_rows": null,
            "right": null,
            "justify_content": null,
            "_view_module": "@jupyter-widgets/base",
            "overflow": null,
            "_model_module_version": "1.2.0",
            "_view_count": null,
            "flex_flow": null,
            "width": null,
            "min_width": null,
            "border": null,
            "align_items": null,
            "bottom": null,
            "_model_module": "@jupyter-widgets/base",
            "top": null,
            "grid_column": null,
            "overflow_y": null,
            "overflow_x": null,
            "grid_auto_flow": null,
            "grid_area": null,
            "grid_template_columns": null,
            "flex": null,
            "_model_name": "LayoutModel",
            "justify_items": null,
            "grid_row": null,
            "max_height": null,
            "align_content": null,
            "visibility": null,
            "align_self": null,
            "height": null,
            "min_height": null,
            "padding": null,
            "grid_auto_rows": null,
            "grid_gap": null,
            "max_width": null,
            "order": null,
            "_view_module_version": "1.2.0",
            "grid_template_areas": null,
            "object_position": null,
            "object_fit": null,
            "grid_auto_columns": null,
            "margin": null,
            "display": null,
            "left": null
          }
        }
      }
    }
  },
  "cells": [
    {
      "cell_type": "markdown",
      "metadata": {
        "id": "brGRB_MqrA2O"
      },
      "source": [
        "###In this notebook, I have implemented BERT. Tensorflow tutorial has been followed and suitable changes have been implemented \n",
        "\n",
        "Note: I do not recommend using BERT in this case since, the data is limited and BERT models are computationally expensive, Colab GPUs have memory limits which restricts optimal training pipeline"
      ]
    },
    {
      "cell_type": "markdown",
      "metadata": {
        "id": "vX1Y-O2hrKl4"
      },
      "source": [
        "##Step 1: Load the data and import necessary packages"
      ]
    },
    {
      "cell_type": "code",
      "metadata": {
        "id": "VnRwifzin2kQ"
      },
      "source": [
        "!cp drive/My\\ Drive/finaldata.csv /content"
      ],
      "execution_count": null,
      "outputs": []
    },
    {
      "cell_type": "code",
      "metadata": {
        "id": "nG-KxfB5oV7p"
      },
      "source": [
        "import pandas as pd\n",
        "import numpy as np\n",
        "import os"
      ],
      "execution_count": null,
      "outputs": []
    },
    {
      "cell_type": "code",
      "metadata": {
        "id": "rjvi76cvoZ8x"
      },
      "source": [
        "data = pd.read_csv('finaldata.csv')"
      ],
      "execution_count": null,
      "outputs": []
    },
    {
      "cell_type": "code",
      "metadata": {
        "colab": {
          "base_uri": "https://localhost:8080/"
        },
        "id": "02Tm2zSw53Y4",
        "outputId": "1d8610c9-efb2-40df-f914-d2cc9fd3c407"
      },
      "source": [
        "from google.colab import drive\n",
        "drive.mount('/content/drive')"
      ],
      "execution_count": null,
      "outputs": [
        {
          "output_type": "stream",
          "text": [
            "Mounted at /content/drive\n"
          ],
          "name": "stdout"
        }
      ]
    },
    {
      "cell_type": "code",
      "metadata": {
        "colab": {
          "base_uri": "https://localhost:8080/",
          "height": 163
        },
        "id": "11HGhAfqocMS",
        "outputId": "8b91d6f6-f155-49b0-fbb2-39a8ec04f86a"
      },
      "source": [
        "data.head()"
      ],
      "execution_count": null,
      "outputs": [
        {
          "output_type": "error",
          "ename": "NameError",
          "evalue": "ignored",
          "traceback": [
            "\u001b[0;31m---------------------------------------------------------------------------\u001b[0m",
            "\u001b[0;31mNameError\u001b[0m                                 Traceback (most recent call last)",
            "\u001b[0;32m<ipython-input-1-304fa4ce4ebd>\u001b[0m in \u001b[0;36m<module>\u001b[0;34m()\u001b[0m\n\u001b[0;32m----> 1\u001b[0;31m \u001b[0mdata\u001b[0m\u001b[0;34m.\u001b[0m\u001b[0mhead\u001b[0m\u001b[0;34m(\u001b[0m\u001b[0;34m)\u001b[0m\u001b[0;34m\u001b[0m\u001b[0;34m\u001b[0m\u001b[0m\n\u001b[0m",
            "\u001b[0;31mNameError\u001b[0m: name 'data' is not defined"
          ]
        }
      ]
    },
    {
      "cell_type": "code",
      "metadata": {
        "id": "iouUOup0oclH"
      },
      "source": [
        "data.drop('Unnamed: 0',axis = 1,inplace = True)"
      ],
      "execution_count": null,
      "outputs": []
    },
    {
      "cell_type": "markdown",
      "metadata": {
        "id": "ZEWopYpTrP4I"
      },
      "source": [
        "##Step 2: Augment Data and 80:20 split into training and validation sets"
      ]
    },
    {
      "cell_type": "code",
      "metadata": {
        "id": "mpKSNhP0qrws"
      },
      "source": [
        "from sklearn.preprocessing import LabelEncoder\n",
        "from sklearn.model_selection import train_test_split"
      ],
      "execution_count": null,
      "outputs": []
    },
    {
      "cell_type": "code",
      "metadata": {
        "id": "6Qkj82S9nL_s"
      },
      "source": [
        "from tensorflow.keras.models import Sequential\n",
        "from tensorflow.keras.layers import Embedding,Dropout,Dense,LSTM,Bidirectional\n",
        "from tensorflow.keras.optimizers import Adamax\n",
        "from tensorflow.keras.callbacks import ModelCheckpoint,ReduceLROnPlateau"
      ],
      "execution_count": null,
      "outputs": []
    },
    {
      "cell_type": "code",
      "metadata": {
        "id": "oqCype7XrF1l"
      },
      "source": [
        "le = LabelEncoder()\n",
        "data['Category'] = le.fit_transform(data['Category'])"
      ],
      "execution_count": null,
      "outputs": []
    },
    {
      "cell_type": "code",
      "metadata": {
        "id": "w29KJj3SrPwY"
      },
      "source": [
        "trainx,testx,trainy,testy = train_test_split(data['Description'],data['Category'],stratify = data['Category'])"
      ],
      "execution_count": null,
      "outputs": []
    },
    {
      "cell_type": "markdown",
      "metadata": {
        "id": "33oISNXorl6l"
      },
      "source": [
        "##Step 3:One hot encode target labels"
      ]
    },
    {
      "cell_type": "code",
      "metadata": {
        "id": "luTsDQ-M7Gbp"
      },
      "source": [
        "from tensorflow.keras.utils import to_categorical\n",
        "train_labels = to_categorical(trainy)\n",
        "test_labels = to_categorical(testy)"
      ],
      "execution_count": null,
      "outputs": []
    },
    {
      "cell_type": "markdown",
      "metadata": {
        "id": "lS40suLgsQvy"
      },
      "source": [
        "##Step 4: Install required libraries for BERT, as mentioned in the tutorial"
      ]
    },
    {
      "cell_type": "code",
      "metadata": {
        "colab": {
          "base_uri": "https://localhost:8080/"
        },
        "id": "gyWpy6HIm_Wg",
        "outputId": "bf573c06-113a-41ca-8cfa-33dc18955bb9"
      },
      "source": [
        "!pip install -q tensorflow-text\n",
        "!pip install -q tf-models-official"
      ],
      "execution_count": null,
      "outputs": [
        {
          "output_type": "stream",
          "text": [
            "\u001b[K     |████████████████████████████████| 3.4MB 8.4MB/s \n",
            "\u001b[K     |████████████████████████████████| 1.1MB 8.0MB/s \n",
            "\u001b[K     |████████████████████████████████| 102kB 10.9MB/s \n",
            "\u001b[K     |████████████████████████████████| 358kB 26.6MB/s \n",
            "\u001b[K     |████████████████████████████████| 37.6MB 76kB/s \n",
            "\u001b[K     |████████████████████████████████| 174kB 55.6MB/s \n",
            "\u001b[K     |████████████████████████████████| 706kB 56.9MB/s \n",
            "\u001b[K     |████████████████████████████████| 645kB 56.6MB/s \n",
            "\u001b[K     |████████████████████████████████| 1.2MB 50.3MB/s \n",
            "\u001b[K     |████████████████████████████████| 51kB 8.2MB/s \n",
            "\u001b[?25h  Building wheel for py-cpuinfo (setup.py) ... \u001b[?25l\u001b[?25hdone\n",
            "  Building wheel for seqeval (setup.py) ... \u001b[?25l\u001b[?25hdone\n"
          ],
          "name": "stdout"
        }
      ]
    },
    {
      "cell_type": "code",
      "metadata": {
        "id": "AErVaC2Xm_Zh"
      },
      "source": [
        "import tensorflow as tf\n",
        "import tensorflow_hub as hub\n",
        "import tensorflow_text as text\n",
        "from official.nlp import optimization"
      ],
      "execution_count": null,
      "outputs": []
    },
    {
      "cell_type": "markdown",
      "metadata": {
        "id": "bRypoNNBsWi4"
      },
      "source": [
        "##Step 5: Select desired BERT model and load the model to runtime"
      ]
    },
    {
      "cell_type": "code",
      "metadata": {
        "id": "S4kyY_K9n3q-"
      },
      "source": [
        "bert_model_name = 'bert_en_uncased_L-12_H-768_A-12'  #@param [\"bert_en_uncased_L-12_H-768_A-12\", \"bert_en_cased_L-12_H-768_A-12\", \"bert_multi_cased_L-12_H-768_A-12\", \"small_bert/bert_en_uncased_L-2_H-128_A-2\", \"small_bert/bert_en_uncased_L-2_H-256_A-4\", \"small_bert/bert_en_uncased_L-2_H-512_A-8\", \"small_bert/bert_en_uncased_L-2_H-768_A-12\", \"small_bert/bert_en_uncased_L-4_H-128_A-2\", \"small_bert/bert_en_uncased_L-4_H-256_A-4\", \"small_bert/bert_en_uncased_L-4_H-512_A-8\", \"small_bert/bert_en_uncased_L-4_H-768_A-12\", \"small_bert/bert_en_uncased_L-6_H-128_A-2\", \"small_bert/bert_en_uncased_L-6_H-256_A-4\", \"small_bert/bert_en_uncased_L-6_H-512_A-8\", \"small_bert/bert_en_uncased_L-6_H-768_A-12\", \"small_bert/bert_en_uncased_L-8_H-128_A-2\", \"small_bert/bert_en_uncased_L-8_H-256_A-4\", \"small_bert/bert_en_uncased_L-8_H-512_A-8\", \"small_bert/bert_en_uncased_L-8_H-768_A-12\", \"small_bert/bert_en_uncased_L-10_H-128_A-2\", \"small_bert/bert_en_uncased_L-10_H-256_A-4\", \"small_bert/bert_en_uncased_L-10_H-512_A-8\", \"small_bert/bert_en_uncased_L-10_H-768_A-12\", \"small_bert/bert_en_uncased_L-12_H-128_A-2\", \"small_bert/bert_en_uncased_L-12_H-256_A-4\", \"small_bert/bert_en_uncased_L-12_H-512_A-8\", \"small_bert/bert_en_uncased_L-12_H-768_A-12\", \"albert_en_base\", \"electra_small\", \"electra_base\", \"experts_pubmed\", \"experts_wiki_books\", \"talking-heads_base\"]\n",
        "map_name_to_handle = {\n",
        "    'bert_en_uncased_L-12_H-768_A-12':\n",
        "        'https://tfhub.dev/tensorflow/bert_en_uncased_L-12_H-768_A-12/3'}\n",
        "map_model_to_preprocess = {\n",
        "    'bert_en_uncased_L-12_H-768_A-12':\n",
        "        'https://tfhub.dev/tensorflow/bert_en_uncased_preprocess/3'}\n",
        "tfhub_handle_encoder = map_name_to_handle[bert_model_name]\n",
        "tfhub_handle_preprocess = map_model_to_preprocess[bert_model_name]"
      ],
      "execution_count": null,
      "outputs": []
    },
    {
      "cell_type": "code",
      "metadata": {
        "id": "JzloSYCom_cd"
      },
      "source": [
        "bert_preprocess_model = hub.KerasLayer(tfhub_handle_preprocess)"
      ],
      "execution_count": null,
      "outputs": []
    },
    {
      "cell_type": "code",
      "metadata": {
        "id": "ufykzpfBm_fp"
      },
      "source": [
        "bert_model = hub.KerasLayer(tfhub_handle_encoder)"
      ],
      "execution_count": null,
      "outputs": []
    },
    {
      "cell_type": "markdown",
      "metadata": {
        "id": "l3-sXa1ysd3-"
      },
      "source": [
        "##Step 6: Define the keras model and add dense layer for inference"
      ]
    },
    {
      "cell_type": "code",
      "metadata": {
        "id": "jX24a0SMm_je"
      },
      "source": [
        "text_input = tf.keras.layers.Input(shape=(), dtype=tf.string, name='text')\n",
        "preprocessing_layer = hub.KerasLayer(tfhub_handle_preprocess, name='preprocessing')\n",
        "encoder_inputs = preprocessing_layer(text_input)\n",
        "encoder = hub.KerasLayer(tfhub_handle_encoder, trainable=True, name='BERT_encoder')\n",
        "outputs = encoder(encoder_inputs)\n",
        "net = outputs['pooled_output']\n",
        "net = tf.keras.layers.Dropout(0.1)(net)\n",
        "net = tf.keras.layers.Dense(22, activation=None, name='classifier')(net)"
      ],
      "execution_count": null,
      "outputs": []
    },
    {
      "cell_type": "code",
      "metadata": {
        "id": "gF2qg8aJm_ma"
      },
      "source": [
        "model = tf.keras.Model(text_input, net)"
      ],
      "execution_count": null,
      "outputs": []
    },
    {
      "cell_type": "markdown",
      "metadata": {
        "id": "ZmmwUvunsupj"
      },
      "source": [
        "Defining loss, accuracy metric and optimizer (BERT uses Adamw optimizer) "
      ]
    },
    {
      "cell_type": "code",
      "metadata": {
        "id": "h4VDxMTRm_oz"
      },
      "source": [
        "loss = tf.keras.losses.CategoricalCrossentropy(from_logits=True)\n",
        "metrics = tf.keras.metrics.CategoricalAccuracy()"
      ],
      "execution_count": null,
      "outputs": []
    },
    {
      "cell_type": "code",
      "metadata": {
        "id": "qnQaZq0wm_rS"
      },
      "source": [
        "epochs = 5\n",
        "num_train_steps = 100 * epochs\n",
        "num_warmup_steps = int(0.1*num_train_steps)\n",
        "\n",
        "init_lr = 3e-5\n",
        "optimizer = optimization.create_optimizer(init_lr=init_lr,\n",
        "                                          num_train_steps=num_train_steps,\n",
        "                                          num_warmup_steps=num_warmup_steps,\n",
        "                                          optimizer_type='adamw')"
      ],
      "execution_count": null,
      "outputs": []
    },
    {
      "cell_type": "markdown",
      "metadata": {
        "id": "j54dZhxNs3MH"
      },
      "source": [
        "##Step 7: Compile the model and fit on preprocessed data"
      ]
    },
    {
      "cell_type": "code",
      "metadata": {
        "id": "1l3EUFHEm_th"
      },
      "source": [
        "model.compile(optimizer=optimizer,\n",
        "                         loss=loss,\n",
        "                         metrics=metrics)"
      ],
      "execution_count": null,
      "outputs": []
    },
    {
      "cell_type": "code",
      "metadata": {
        "colab": {
          "base_uri": "https://localhost:8080/"
        },
        "id": "WGDrDPpxpTYz",
        "outputId": "12fb42d7-982f-4402-867f-d8665697bfd6"
      },
      "source": [
        "hist = model.fit(trainx,train_labels,validation_data = (testx,test_labels),batch_size=32,epochs = 10)"
      ],
      "execution_count": null,
      "outputs": [
        {
          "output_type": "stream",
          "text": [
            "Epoch 1/10\n",
            "460/460 [==============================] - 483s 1s/step - loss: 1.3244 - categorical_accuracy: 0.6354 - val_loss: 0.1303 - val_categorical_accuracy: 0.9669\n",
            "Epoch 2/10\n",
            "460/460 [==============================] - 466s 1s/step - loss: 0.1324 - categorical_accuracy: 0.9670 - val_loss: 0.1285 - val_categorical_accuracy: 0.9667\n",
            "Epoch 3/10\n",
            "460/460 [==============================] - 466s 1s/step - loss: 0.1198 - categorical_accuracy: 0.9714 - val_loss: 0.1285 - val_categorical_accuracy: 0.9667\n",
            "Epoch 4/10\n",
            "460/460 [==============================] - 465s 1s/step - loss: 0.1292 - categorical_accuracy: 0.9685 - val_loss: 0.1285 - val_categorical_accuracy: 0.9667\n",
            "Epoch 5/10\n",
            "460/460 [==============================] - 466s 1s/step - loss: 0.1265 - categorical_accuracy: 0.9695 - val_loss: 0.1285 - val_categorical_accuracy: 0.9667\n",
            "Epoch 6/10\n",
            "460/460 [==============================] - 465s 1s/step - loss: 0.1335 - categorical_accuracy: 0.9662 - val_loss: 0.1285 - val_categorical_accuracy: 0.9667\n",
            "Epoch 7/10\n",
            "460/460 [==============================] - 465s 1s/step - loss: 0.1255 - categorical_accuracy: 0.9692 - val_loss: 0.1285 - val_categorical_accuracy: 0.9667\n",
            "Epoch 8/10\n",
            "460/460 [==============================] - 465s 1s/step - loss: 0.1296 - categorical_accuracy: 0.9675 - val_loss: 0.1285 - val_categorical_accuracy: 0.9667\n",
            "Epoch 9/10\n",
            "460/460 [==============================] - 466s 1s/step - loss: 0.1388 - categorical_accuracy: 0.9638 - val_loss: 0.1285 - val_categorical_accuracy: 0.9667\n",
            "Epoch 10/10\n",
            "460/460 [==============================] - 465s 1s/step - loss: 0.1326 - categorical_accuracy: 0.9667 - val_loss: 0.1285 - val_categorical_accuracy: 0.9667\n"
          ],
          "name": "stdout"
        }
      ]
    },
    {
      "cell_type": "markdown",
      "metadata": {
        "id": "kabMIBvruTqP"
      },
      "source": [
        "Save the model to Google Drive"
      ]
    },
    {
      "cell_type": "code",
      "metadata": {
        "colab": {
          "base_uri": "https://localhost:8080/"
        },
        "id": "wECQo5Qn7NQ6",
        "outputId": "2c3462ab-583f-4cb1-a463-a766c71b26be"
      },
      "source": [
        "model.save('bert')"
      ],
      "execution_count": null,
      "outputs": [
        {
          "output_type": "stream",
          "text": [
            "WARNING:absl:Found untraced functions such as restored_function_body, restored_function_body, restored_function_body, restored_function_body, restored_function_body while saving (showing 5 of 910). These functions will not be directly callable after loading.\n",
            "WARNING:absl:Found untraced functions such as restored_function_body, restored_function_body, restored_function_body, restored_function_body, restored_function_body while saving (showing 5 of 910). These functions will not be directly callable after loading.\n"
          ],
          "name": "stderr"
        },
        {
          "output_type": "stream",
          "text": [
            "INFO:tensorflow:Assets written to: bert/assets\n"
          ],
          "name": "stdout"
        },
        {
          "output_type": "stream",
          "text": [
            "INFO:tensorflow:Assets written to: bert/assets\n"
          ],
          "name": "stderr"
        }
      ]
    },
    {
      "cell_type": "code",
      "metadata": {
        "id": "eGJBvIt88JYT"
      },
      "source": [
        "!cp -r bert drive/My\\ Drive"
      ],
      "execution_count": null,
      "outputs": []
    },
    {
      "cell_type": "markdown",
      "metadata": {
        "id": "NSYSVO_WuYAc"
      },
      "source": [
        "##Step 8: Generate the predictions for the validation set"
      ]
    },
    {
      "cell_type": "code",
      "metadata": {
        "id": "Zu5g5-dUNl8-"
      },
      "source": [
        "preds = list()"
      ],
      "execution_count": null,
      "outputs": []
    },
    {
      "cell_type": "code",
      "metadata": {
        "id": "sFm-Tpb9Nv9y"
      },
      "source": [
        "from tqdm.notebook import tqdm"
      ],
      "execution_count": null,
      "outputs": []
    },
    {
      "cell_type": "code",
      "metadata": {
        "id": "4UrGN0aZN4dB"
      },
      "source": [
        "testcases = testx.reset_index(drop = True)"
      ],
      "execution_count": null,
      "outputs": []
    },
    {
      "cell_type": "code",
      "metadata": {
        "colab": {
          "base_uri": "https://localhost:8080/",
          "height": 66,
          "referenced_widgets": [
            "c4512e7f400c4e3585a2a22eafbf72ee",
            "85c454ac7ccd4d3ebb57061cd6022665",
            "b10915789678438481f5f0625233da10",
            "7ff780df287c460c9ed5dcfb927190d9",
            "3dec434725a442b98044b77a9d11ca44",
            "67a31bbe556c4fd7b3256d6e03d94ca9",
            "bc4767cb0b094ebeb3cd7a5d6045835c",
            "2a1dbec8a19b4bceb4036d40e9e5653a"
          ]
        },
        "id": "g7PF1T92NMb0",
        "outputId": "45d851d6-2be1-441d-f2ee-a8cf69604dc4"
      },
      "source": [
        "for i in tqdm(range(len(testcases))):\n",
        "  preds.append(tf.nn.softmax(model(tf.constant([testcases[i]]))).numpy().argmax(1)[0])"
      ],
      "execution_count": null,
      "outputs": [
        {
          "output_type": "display_data",
          "data": {
            "application/vnd.jupyter.widget-view+json": {
              "model_id": "c4512e7f400c4e3585a2a22eafbf72ee",
              "version_minor": 0,
              "version_major": 2
            },
            "text/plain": [
              "HBox(children=(FloatProgress(value=0.0, max=4901.0), HTML(value='')))"
            ]
          },
          "metadata": {
            "tags": []
          }
        },
        {
          "output_type": "stream",
          "text": [
            "\n"
          ],
          "name": "stdout"
        }
      ]
    },
    {
      "cell_type": "code",
      "metadata": {
        "id": "e53k7hxyw80r"
      },
      "source": [
        "from sklearn.metrics import classification_report"
      ],
      "execution_count": null,
      "outputs": []
    },
    {
      "cell_type": "markdown",
      "metadata": {
        "id": "K4mvtLgZueka"
      },
      "source": [
        "##Results and Model Evaluation"
      ]
    },
    {
      "cell_type": "markdown",
      "metadata": {
        "id": "pPZ_JAJAui6Q"
      },
      "source": [
        "It can be seen that the model achieves 88% macro average, much higher than the LSTM model"
      ]
    },
    {
      "cell_type": "code",
      "metadata": {
        "id": "171qNVyT4FR-"
      },
      "source": [
        "n = data['Category'].unique().max()+1"
      ],
      "execution_count": null,
      "outputs": []
    },
    {
      "cell_type": "code",
      "metadata": {
        "colab": {
          "base_uri": "https://localhost:8080/"
        },
        "id": "y1xxsUSz3p0U",
        "outputId": "2fd17a88-4bbd-4ea2-8118-6ee549102131"
      },
      "source": [
        "label_names = []\n",
        "for i in range(n):\n",
        "  label_names.append(le.inverse_transform(np.array(i).reshape(-1,1))[0])"
      ],
      "execution_count": null,
      "outputs": [
        {
          "output_type": "stream",
          "text": [
            "/usr/local/lib/python3.7/dist-packages/sklearn/preprocessing/_label.py:289: DataConversionWarning: A column-vector y was passed when a 1d array was expected. Please change the shape of y to (n_samples, ), for example using ravel().\n",
            "  y = column_or_1d(y, warn=True)\n"
          ],
          "name": "stderr"
        }
      ]
    },
    {
      "cell_type": "code",
      "metadata": {
        "colab": {
          "base_uri": "https://localhost:8080/"
        },
        "id": "d1ONoBtO37qd",
        "outputId": "1820088b-a0b3-4e08-c68c-9a2562a7eb05"
      },
      "source": [
        "print(classification_report(testy,preds,target_names=label_names))"
      ],
      "execution_count": null,
      "outputs": [
        {
          "output_type": "stream",
          "text": [
            "                                   precision    recall  f1-score   support\n",
            "\n",
            "                       Automotive       0.95      0.99      0.97       254\n",
            "                        Baby Care       0.84      0.88      0.86       121\n",
            "            Bags, Wallets & Belts       0.88      0.97      0.92        66\n",
            "         Beauty and Personal Care       0.94      0.98      0.96       178\n",
            "            Cameras & Accessories       0.91      0.95      0.93        21\n",
            "                         Clothing       1.00      0.99      0.99      1549\n",
            "                        Computers       0.93      0.97      0.95       145\n",
            "                          Eyewear       1.00      0.83      0.91        12\n",
            "                         Footwear       0.99      1.00      1.00       309\n",
            "                        Furniture       0.91      0.91      0.91        45\n",
            "Health & Personal Care Appliances       1.00      0.09      0.17        11\n",
            "       Home Decor & Festive Needs       0.95      0.97      0.96       233\n",
            "                  Home Furnishing       0.97      0.97      0.97       176\n",
            "                 Home Improvement       0.89      0.76      0.82        21\n",
            "                        Jewellery       1.00      1.00      1.00       884\n",
            "                 Kitchen & Dining       0.89      0.91      0.90       168\n",
            "            Mobiles & Accessories       0.98      0.96      0.97       275\n",
            "                Pens & Stationery       0.92      0.63      0.75        78\n",
            "                 Sports & Fitness       0.84      0.76      0.80        42\n",
            "                 Tools & Hardware       0.94      0.90      0.92        98\n",
            "           Toys & School Supplies       0.75      0.90      0.82        82\n",
            "                          Watches       1.00      0.98      0.99       133\n",
            "\n",
            "                         accuracy                           0.97      4901\n",
            "                        macro avg       0.93      0.88      0.88      4901\n",
            "                     weighted avg       0.97      0.97      0.97      4901\n",
            "\n"
          ],
          "name": "stdout"
        }
      ]
    },
    {
      "cell_type": "code",
      "metadata": {
        "id": "6JOH_2svxoZC"
      },
      "source": [
        "from sklearn.metrics import classification_report,confusion_matrix"
      ],
      "execution_count": null,
      "outputs": []
    },
    {
      "cell_type": "markdown",
      "metadata": {
        "id": "IegLHJlmu0wA"
      },
      "source": [
        "###Not plotting ROC Curve since, BERT does not support probability prediction (Working on getting the same after completing the task)"
      ]
    },
    {
      "cell_type": "code",
      "metadata": {
        "id": "FWiyHwj84tYs"
      },
      "source": [
        "from sklearn.metrics import roc_auc_score,roc_curve"
      ],
      "execution_count": null,
      "outputs": []
    },
    {
      "cell_type": "code",
      "metadata": {
        "id": "YXNOSwIM5s0v"
      },
      "source": [
        "fpr,tpr,thresh = dict(),dict(),dict()"
      ],
      "execution_count": null,
      "outputs": []
    },
    {
      "cell_type": "markdown",
      "metadata": {
        "id": "qKlreTH4vN5f"
      },
      "source": [
        "####Plotting the confusion matrix for the validation set, minor misclassifications can be observed"
      ]
    },
    {
      "cell_type": "code",
      "metadata": {
        "id": "yjavn9Mq6RKT"
      },
      "source": [
        "import matplotlib.pyplot as plt"
      ],
      "execution_count": null,
      "outputs": []
    },
    {
      "cell_type": "code",
      "metadata": {
        "id": "i5OdhFuU6QGG"
      },
      "source": [
        "cm = confusion_matrix(testy.values,preds)"
      ],
      "execution_count": null,
      "outputs": []
    },
    {
      "cell_type": "code",
      "metadata": {
        "id": "WO_wzK-a6q1Y"
      },
      "source": [
        "import seaborn as sn"
      ],
      "execution_count": null,
      "outputs": []
    },
    {
      "cell_type": "code",
      "metadata": {
        "colab": {
          "base_uri": "https://localhost:8080/",
          "height": 772
        },
        "id": "veM7abmH6tk_",
        "outputId": "c0c47610-4101-43d1-dfb7-a226a6389a3d"
      },
      "source": [
        "plt.figure(figsize=(10,10))\n",
        "sn.heatmap(cm,cmap = 'Blues',annot = True,fmt = '.1f',xticklabels = label_names,yticklabels=label_names)"
      ],
      "execution_count": null,
      "outputs": [
        {
          "output_type": "execute_result",
          "data": {
            "text/plain": [
              "<matplotlib.axes._subplots.AxesSubplot at 0x7f9290c19710>"
            ]
          },
          "metadata": {
            "tags": []
          },
          "execution_count": 66
        },
        {
          "output_type": "display_data",
          "data": {
            "image/png": "[encoded data removed]",
            "text/plain": [
              "<Figure size 720x720 with 2 Axes>"
            ]
          },
          "metadata": {
            "tags": [],
            "needs_background": "light"
          }
        }
      ]
    },
    {
      "cell_type": "markdown",
      "metadata": {
        "id": "9mJcJOX8vWHl"
      },
      "source": [
        "####Plotting model loss and accuracy, it can be seen that the BERT model achieves optimal performance after 1 epoch itself and further, does not start to overfit on training data. Instead, consistent loss is maintained"
      ]
    },
    {
      "cell_type": "code",
      "metadata": {
        "id": "St54s5av7Gb8"
      },
      "source": [
        "acc = hist.history['categorical_accuracy']\n",
        "val_acc = hist.history['val_categorical_accuracy']\n",
        "loss = hist.history['loss']\n",
        "val_loss = hist.history['val_loss']\n",
        "\n",
        "epochs = range(1, len(acc) + 1)"
      ],
      "execution_count": null,
      "outputs": []
    },
    {
      "cell_type": "code",
      "metadata": {
        "colab": {
          "base_uri": "https://localhost:8080/",
          "height": 298
        },
        "id": "jA8jwyVd7Zrs",
        "outputId": "c7bcd1ed-8eec-4fb0-ea54-731d784f3a58"
      },
      "source": [
        "plt.plot(epochs, loss, 'r', label='Training loss')\n",
        "plt.plot(epochs, val_loss, 'b', label='Validation loss')\n",
        "plt.title('Training and validation loss at 10 epochs')\n",
        "plt.legend()"
      ],
      "execution_count": null,
      "outputs": [
        {
          "output_type": "execute_result",
          "data": {
            "text/plain": [
              "<matplotlib.legend.Legend at 0x7f928e2b73d0>"
            ]
          },
          "metadata": {
            "tags": []
          },
          "execution_count": 69
        },
        {
          "output_type": "display_data",
          "data": {
            "image/png": "[encoded data removed]",
            "text/plain": [
              "<Figure size 432x288 with 1 Axes>"
            ]
          },
          "metadata": {
            "tags": [],
            "needs_background": "light"
          }
        }
      ]
    },
    {
      "cell_type": "code",
      "metadata": {
        "colab": {
          "base_uri": "https://localhost:8080/",
          "height": 298
        },
        "id": "uTyhQgC_7biq",
        "outputId": "d47a7669-4c1c-4f6f-9aed-cf0ffe9b7081"
      },
      "source": [
        "plt.figure()\n",
        "\n",
        "plt.plot(epochs, acc, 'r', label='Training acc')\n",
        "plt.plot(epochs, val_acc, 'b', label='Validation acc')\n",
        "plt.title('Training and validation accuracy at 10 epochs')\n",
        "plt.legend()"
      ],
      "execution_count": null,
      "outputs": [
        {
          "output_type": "execute_result",
          "data": {
            "text/plain": [
              "<matplotlib.legend.Legend at 0x7f928e2a7090>"
            ]
          },
          "metadata": {
            "tags": []
          },
          "execution_count": 70
        },
        {
          "output_type": "display_data",
          "data": {
            "image/png": "[encoded data removed]",
            "text/plain": [
              "<Figure size 432x288 with 1 Axes>"
            ]
          },
          "metadata": {
            "tags": [],
            "needs_background": "light"
          }
        }
      ]
    },
    {
      "cell_type": "markdown",
      "metadata": {
        "id": "vRijxXPo75Qv"
      },
      "source": [
        "###Conclusion:\n",
        "The BERT model achieves optimal state after 1 epoch itself although, it takes almost 8 minutes for each epoch. The accuracy achieved is higher than the LSTM model\n",
        "But, the model would perform if more data is used"
      ]
    },
    {
      "cell_type": "markdown",
      "metadata": {
        "id": "hkD1TrI0xb4u"
      },
      "source": [
        "###References:\n",
        "1. BERT Tutorial: https://www.tensorflow.org/tutorials/text/classify_text_with_bert\n"
      ]
    },
    {
      "cell_type": "code",
      "metadata": {
        "id": "xNkdW7wFxqju"
      },
      "source": [
        ""
      ],
      "execution_count": null,
      "outputs": []
    }
  ]
}